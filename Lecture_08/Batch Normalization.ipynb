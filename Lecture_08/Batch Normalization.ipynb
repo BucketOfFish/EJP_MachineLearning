{
 "cells": [
  {
   "cell_type": "code",
   "execution_count": 1,
   "metadata": {
    "collapsed": true
   },
   "outputs": [],
   "source": [
    "def batchnorm_forward(x, gamma, beta, eps):\n",
    "\n",
    "  N, D = x.shape\n",
    "\n",
    "  #step1: calculate mean\n",
    "  mu = 1./N * np.sum(x, axis = 0)\n",
    "\n",
    "  #step2: subtract mean vector of every trainings example\n",
    "  xmu = x - mu\n",
    "\n",
    "  #step3: following the lower branch - calculation denominator\n",
    "  sq = xmu ** 2\n",
    "\n",
    "  #step4: calculate variance\n",
    "  var = 1./N * np.sum(sq, axis = 0)\n",
    "\n",
    "  #step5: add eps for numerical stability, then sqrt\n",
    "  sqrtvar = np.sqrt(var + eps)\n",
    "\n",
    "  #step6: invert sqrtwar\n",
    "  ivar = 1./sqrtvar\n",
    "\n",
    "  #step7: execute normalization\n",
    "  xhat = xmu * ivar\n",
    "\n",
    "  #step8: Nor the two transformation steps\n",
    "  gammax = gamma * xhat\n",
    "\n",
    "  #step9\n",
    "  out = gammax + beta\n",
    "\n",
    "  #store intermediate\n",
    "  cache = (xhat,gamma,xmu,ivar,sqrtvar,var,eps)\n",
    "\n",
    "  return out, cache"
   ]
  },
  {
   "cell_type": "code",
   "execution_count": 2,
   "metadata": {
    "collapsed": true
   },
   "outputs": [],
   "source": [
    "def batchnorm_backward(dout, cache):\n",
    "\n",
    "  #unfold the variables stored in cache\n",
    "  xhat,gamma,xmu,ivar,sqrtvar,var,eps = cache\n",
    "\n",
    "  #get the dimensions of the input/output\n",
    "  N,D = dout.shape\n",
    "\n",
    "  #step9\n",
    "  dbeta = np.sum(dout, axis=0)\n",
    "  dgammax = dout #not necessary, but more understandable\n",
    "\n",
    "  #step8\n",
    "  dgamma = np.sum(dgammax*xhat, axis=0)\n",
    "  dxhat = dgammax * gamma\n",
    "\n",
    "  #step7\n",
    "  divar = np.sum(dxhat*xmu, axis=0)\n",
    "  dxmu1 = dxhat * ivar\n",
    "\n",
    "  #step6\n",
    "  dsqrtvar = -1. /(sqrtvar**2) * divar\n",
    "\n",
    "  #step5\n",
    "  dvar = 0.5 * 1. /np.sqrt(var+eps) * dsqrtvar\n",
    "\n",
    "  #step4\n",
    "  dsq = 1. /N * np.ones((N,D)) * dvar\n",
    "\n",
    "  #step3\n",
    "  dxmu2 = 2 * xmu * dsq\n",
    "\n",
    "  #step2\n",
    "  dx1 = (dxmu1 + dxmu2)\n",
    "  dmu = -1 * np.sum(dxmu1+dxmu2, axis=0)\n",
    "\n",
    "  #step1\n",
    "  dx2 = 1. /N * np.ones((N,D)) * dmu\n",
    "\n",
    "  #step0\n",
    "  dx = dx1 + dx2\n",
    "\n",
    "  return dx, dgamma, dbeta"
   ]
  },
  {
   "cell_type": "code",
   "execution_count": null,
   "metadata": {
    "collapsed": true
   },
   "outputs": [],
   "source": []
  }
 ],
 "metadata": {
  "kernelspec": {
   "display_name": "Python 3",
   "language": "python",
   "name": "python3"
  },
  "language_info": {
   "codemirror_mode": {
    "name": "ipython",
    "version": 3
   },
   "file_extension": ".py",
   "mimetype": "text/x-python",
   "name": "python",
   "nbconvert_exporter": "python",
   "pygments_lexer": "ipython3",
   "version": "3.5.1"
  },
  "widgets": {
   "state": {},
   "version": "1.1.0"
  }
 },
 "nbformat": 4,
 "nbformat_minor": 0
}
