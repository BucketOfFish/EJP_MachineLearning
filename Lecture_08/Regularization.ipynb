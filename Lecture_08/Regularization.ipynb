{
 "cells": [
  {
   "cell_type": "markdown",
   "metadata": {},
   "source": [
    "# Regularization"
   ]
  },
  {
   "cell_type": "markdown",
   "metadata": {},
   "source": [
    "Overfitting occurs when the model used to fit the data becomes too complex, to the point where it's way too specific. We want the fitting function to perform well but not be too complicated."
   ]
  },
  {
   "cell_type": "markdown",
   "metadata": {},
   "source": [
    "The way we can do this is by adding a **regularization term** to the loss."
   ]
  },
  {
   "cell_type": "markdown",
   "metadata": {},
   "source": [
    "Let's see how this works by generating a dataset and fitting a very complex function to it."
   ]
  },
  {
   "cell_type": "code",
   "execution_count": 1,
   "metadata": {
    "collapsed": true
   },
   "outputs": [],
   "source": [
    "import matplotlib.pyplot as plt\n",
    "%matplotlib inline\n",
    "import numpy as np"
   ]
  },
  {
   "cell_type": "code",
   "execution_count": 94,
   "metadata": {
    "collapsed": true
   },
   "outputs": [],
   "source": [
    "def generate_data():\n",
    "    n_data_points = 20\n",
    "    x = [i*5 for i in list(range(n_data_points))]\n",
    "    y = [-1.2*i**2 + 53*i + (np.random.rand()-0.5)*3000 for i in x]\n",
    "    return x, y"
   ]
  },
  {
   "cell_type": "code",
   "execution_count": 95,
   "metadata": {
    "collapsed": true
   },
   "outputs": [],
   "source": [
    "x, y = generate_data()"
   ]
  },
  {
   "cell_type": "code",
   "execution_count": 96,
   "metadata": {
    "collapsed": false
   },
   "outputs": [
    {
     "data": {
      "text/plain": [
       "<matplotlib.collections.PathCollection at 0x11861e198>"
      ]
     },
     "execution_count": 96,
     "metadata": {},
     "output_type": "execute_result"
    },
    {
     "data": {
      "image/png": "[encoded data removed]",
      "text/plain": [
       "<matplotlib.figure.Figure at 0x11847a1d0>"
      ]
     },
     "metadata": {},
     "output_type": "display_data"
    }
   ],
   "source": [
    "plt.scatter(x, y)"
   ]
  },
  {
   "cell_type": "markdown",
   "metadata": {},
   "source": [
    "Here we choose an 20th order polynomial function with a scaling factor in front of each term that grows with the power. This scaling factor prevents us from having to use ridiculously small learning rates for high-order equations, and also prevents selective fitting of higher-order parameters."
   ]
  },
  {
   "cell_type": "code",
   "execution_count": 286,
   "metadata": {
    "collapsed": true
   },
   "outputs": [],
   "source": [
    "n_parameters = 20\n",
    "parameters = np.random.rand(n_parameters)\n",
    "def polynomial(x):\n",
    "    y = 0\n",
    "    for p in range(n_parameters):\n",
    "        y += parameters[p] * (x/100)**(p)\n",
    "    return y\n",
    "def model(x):\n",
    "    return [polynomial(i) for i in x]\n",
    "def loss(y_guess, y):\n",
    "    diff_squared = [(i-j)**2 for i, j in zip(y_guess, y)]\n",
    "    return sum(diff_squared)/len(y)\n",
    "learning_rate = 0.5\n",
    "loss_history = []\n",
    "def gradient_descent(y_guess):\n",
    "    global parameters\n",
    "    for p in range(n_parameters):\n",
    "        grad = 2*sum([(i-j)*(x/100)**p for i, j, x in zip(y_guess, y, x)])/len(y)\n",
    "        parameters[p] -= grad * learning_rate\n",
    "def train():\n",
    "    for i in range(5000):\n",
    "        y_guess = model(x)\n",
    "        current_loss = loss(y_guess, y)\n",
    "        loss_history.append(current_loss)\n",
    "        gradient_descent(y_guess)"
   ]
  },
  {
   "cell_type": "code",
   "execution_count": 287,
   "metadata": {
    "collapsed": false
   },
   "outputs": [
    {
     "data": {
      "text/plain": [
       "<matplotlib.text.Text at 0x1222e8630>"
      ]
     },
     "execution_count": 287,
     "metadata": {},
     "output_type": "execute_result"
    },
    {
     "data": {
      "image/png": "[encoded data removed]",
      "text/plain": [
       "<matplotlib.figure.Figure at 0x122a22860>"
      ]
     },
     "metadata": {},
     "output_type": "display_data"
    }
   ],
   "source": [
    "train()\n",
    "plt.plot(loss_history)\n",
    "plt.title(\"Loss History\")\n",
    "plt.xlabel(\"Number of Training Steps\")\n",
    "plt.ylabel(\"Loss\")"
   ]
  },
  {
   "cell_type": "code",
   "execution_count": 288,
   "metadata": {
    "collapsed": false
   },
   "outputs": [
    {
     "name": "stdout",
     "output_type": "stream",
     "text": [
      "[ -336.35891048  6285.31635644 -7632.33414306 -6416.63535796 -3611.96804\n",
      "  -696.01983904  1600.60099669  3037.12677783  3657.22029063  3617.8497456\n",
      "  3096.02117439  2253.41011561  1223.01630204   106.57290101 -1021.8474151\n",
      " -2111.03088722 -3124.72465826 -4043.32381241 -4855.28569767 -5556.64936883]\n"
     ]
    },
    {
     "data": {
      "text/plain": [
       "<matplotlib.collections.PathCollection at 0x122576e80>"
      ]
     },
     "execution_count": 288,
     "metadata": {},
     "output_type": "execute_result"
    },
    {
     "data": {
      "image/png": "[encoded data removed]",
      "text/plain": [
       "<matplotlib.figure.Figure at 0x122a54dd8>"
      ]
     },
     "metadata": {},
     "output_type": "display_data"
    }
   ],
   "source": [
    "print(parameters)\n",
    "plt.scatter(x, y)\n",
    "plt.scatter(x, model(x), color='red')"
   ]
  },
  {
   "cell_type": "markdown",
   "metadata": {},
   "source": [
    "This fit looks pretty good, but let's zoom out."
   ]
  },
  {
   "cell_type": "code",
   "execution_count": 289,
   "metadata": {
    "collapsed": false
   },
   "outputs": [
    {
     "data": {
      "text/plain": [
       "<matplotlib.collections.PathCollection at 0x122dad898>"
      ]
     },
     "execution_count": 289,
     "metadata": {},
     "output_type": "execute_result"
    },
    {
     "data": {
      "image/png": "[encoded data removed]",
      "text/plain": [
       "<matplotlib.figure.Figure at 0x122b95128>"
      ]
     },
     "metadata": {},
     "output_type": "display_data"
    }
   ],
   "source": [
    "plt.scatter(x, y)\n",
    "x_extended = list(range(-110,110))\n",
    "plt.scatter(x_extended, model(x_extended), color='red')"
   ]
  },
  {
   "cell_type": "markdown",
   "metadata": {},
   "source": [
    "In this case, the function fit was overfit and not very good outside of the range where it was trained. The algorithm tried too hard to fit the extra terms in the equation."
   ]
  },
  {
   "cell_type": "markdown",
   "metadata": {
    "collapsed": true
   },
   "source": [
    "We can add a **regularization term** to the loss function, which discourages the model from using too many terms. Specifically, we can penalize high-order terms by introducing a regularization term that scales with the polynomial order."
   ]
  },
  {
   "cell_type": "code",
   "execution_count": 241,
   "metadata": {
    "collapsed": true
   },
   "outputs": [],
   "source": [
    "def loss(y_guess, y):\n",
    "    diff_squared = [(i-j)**2 for i, j in zip(y_guess, y)]\n",
    "    regularization = 0\n",
    "    for p in range(n_parameters):\n",
    "        regularization += (parameters[p]**2)*(2**p)/100000\n",
    "    return (sum(diff_squared))/len(y) + regularization\n",
    "def gradient_descent(y_guess):\n",
    "    global parameters\n",
    "    for p in range(n_parameters):\n",
    "        grad = (2*sum([(i-j)*(x/100)**p for i, j, x in zip(y_guess, y, x)]))/len(y) + 2*parameters[p]*(2**p)/100000\n",
    "        parameters[p] -= grad * learning_rate"
   ]
  },
  {
   "cell_type": "code",
   "execution_count": 248,
   "metadata": {
    "collapsed": true
   },
   "outputs": [],
   "source": [
    "n_parameters = 20\n",
    "parameters = np.random.rand(n_parameters)\n",
    "def polynomial(x):\n",
    "    y = 0\n",
    "    for p in range(n_parameters):\n",
    "        y += parameters[p] * (x/100)**(p)\n",
    "    return y\n",
    "def model(x):\n",
    "    return [polynomial(i) for i in x]\n",
    "learning_rate = 0.01\n",
    "loss_history = []\n",
    "def train():\n",
    "    for i in range(1000):\n",
    "        y_guess = model(x)\n",
    "        current_loss = loss(y_guess, y)\n",
    "        loss_history.append(current_loss)\n",
    "        gradient_descent(y_guess)"
   ]
  },
  {
   "cell_type": "code",
   "execution_count": 249,
   "metadata": {
    "collapsed": false
   },
   "outputs": [
    {
     "data": {
      "text/plain": [
       "<matplotlib.text.Text at 0x11ff76978>"
      ]
     },
     "execution_count": 249,
     "metadata": {},
     "output_type": "execute_result"
    },
    {
     "data": {
      "image/png": "[encoded data removed]",
      "text/plain": [
       "<matplotlib.figure.Figure at 0x11ffa8780>"
      ]
     },
     "metadata": {},
     "output_type": "display_data"
    }
   ],
   "source": [
    "train()\n",
    "plt.plot(loss_history)\n",
    "plt.title(\"Loss History\")\n",
    "plt.xlabel(\"Number of Training Steps\")\n",
    "plt.ylabel(\"Loss\")"
   ]
  },
  {
   "cell_type": "code",
   "execution_count": 250,
   "metadata": {
    "collapsed": false
   },
   "outputs": [
    {
     "name": "stdout",
     "output_type": "stream",
     "text": [
      "[  5.28444420e+02  -6.06886366e+02  -1.11325189e+03  -1.16019923e+03\n",
      "  -1.08288007e+03  -9.77173741e+02  -8.73051530e+02  -7.79225162e+02\n",
      "  -6.92489754e+02  -6.07053104e+02  -5.14781746e+02  -4.04726783e+02\n",
      "  -2.73472275e+02  -1.39108804e+02  -4.70235781e+01  -1.41084118e+01\n",
      "  -6.30864977e+00  -3.21540259e+00  -1.65338423e+00  -8.46792736e-01]\n"
     ]
    },
    {
     "data": {
      "text/plain": [
       "<matplotlib.collections.PathCollection at 0x11ff76b70>"
      ]
     },
     "execution_count": 250,
     "metadata": {},
     "output_type": "execute_result"
    },
    {
     "data": {
      "image/png": "[encoded data removed]",
      "text/plain": [
       "<matplotlib.figure.Figure at 0x12009e198>"
      ]
     },
     "metadata": {},
     "output_type": "display_data"
    }
   ],
   "source": [
    "print(parameters)\n",
    "plt.scatter(x, y)\n",
    "plt.scatter(x, model(x), color='red')"
   ]
  },
  {
   "cell_type": "code",
   "execution_count": 251,
   "metadata": {
    "collapsed": false
   },
   "outputs": [
    {
     "data": {
      "text/plain": [
       "<matplotlib.collections.PathCollection at 0x1204bdf98>"
      ]
     },
     "execution_count": 251,
     "metadata": {},
     "output_type": "execute_result"
    },
    {
     "data": {
      "image/png": "[encoded data removed]",
      "text/plain": [
       "<matplotlib.figure.Figure at 0x120481160>"
      ]
     },
     "metadata": {},
     "output_type": "display_data"
    }
   ],
   "source": [
    "plt.scatter(x, y)\n",
    "x_extended = list(range(-110,110))\n",
    "plt.scatter(x_extended, model(x_extended), color='red')"
   ]
  },
  {
   "cell_type": "markdown",
   "metadata": {},
   "source": [
    "This curve looks much nicer, and behaves well outside the original training range."
   ]
  }
 ],
 "metadata": {
  "kernelspec": {
   "display_name": "Python 3",
   "language": "python",
   "name": "python3"
  },
  "language_info": {
   "codemirror_mode": {
    "name": "ipython",
    "version": 3
   },
   "file_extension": ".py",
   "mimetype": "text/x-python",
   "name": "python",
   "nbconvert_exporter": "python",
   "pygments_lexer": "ipython3",
   "version": "3.5.1"
  },
  "widgets": {
   "state": {},
   "version": "1.1.0"
  }
 },
 "nbformat": 4,
 "nbformat_minor": 0
}
