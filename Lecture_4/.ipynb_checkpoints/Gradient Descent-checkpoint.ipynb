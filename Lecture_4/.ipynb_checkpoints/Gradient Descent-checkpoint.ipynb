{
 "cells": [
  {
   "cell_type": "markdown",
   "metadata": {},
   "source": [
    "# Gradient Descent"
   ]
  },
  {
   "cell_type": "markdown",
   "metadata": {},
   "source": [
    "We will import \"Files/data.h5\" again, and define a loss function to see how well a model can fit to the data."
   ]
  },
  {
   "cell_type": "code",
   "execution_count": 1,
   "metadata": {
    "collapsed": true
   },
   "outputs": [],
   "source": [
    "import h5py as h5"
   ]
  },
  {
   "cell_type": "code",
   "execution_count": 2,
   "metadata": {
    "collapsed": true
   },
   "outputs": [],
   "source": [
    "data = h5.File(\"Files/data.h5\")\n",
    "x = data['x']\n",
    "y = data['y']"
   ]
  },
  {
   "cell_type": "code",
   "execution_count": 3,
   "metadata": {
    "collapsed": true
   },
   "outputs": [],
   "source": [
    "def loss(y_guess, y):\n",
    "    diff_squared = [(i-j)**2 for i, j in zip(y_guess, y)]\n",
    "    return sum(diff_squared)/len(y)"
   ]
  },
  {
   "cell_type": "markdown",
   "metadata": {},
   "source": [
    "Now we create a model, using the function y = a\\*x^2 + b\\*x + c, where a, b, and c are constants."
   ]
  },
  {
   "cell_type": "code",
   "execution_count": 53,
   "metadata": {
    "collapsed": true
   },
   "outputs": [],
   "source": [
    "a = 2\n",
    "b = 30\n",
    "c = 50\n",
    "def model(x):\n",
    "    y_guess = [a*i**2 + b*i + c for i in x]\n",
    "    return y_guess"
   ]
  },
  {
   "cell_type": "code",
   "execution_count": 28,
   "metadata": {
    "collapsed": true
   },
   "outputs": [],
   "source": [
    "import matplotlib.pyplot as plt\n",
    "%matplotlib inline\n",
    "def evaluate_model():\n",
    "    y_guess = model(x)\n",
    "    plt.scatter(x, y)\n",
    "    plt.scatter(x, y_guess, color='red')\n",
    "    current_loss = loss(y_guess, y)\n",
    "    print(\"Model is\", str(a)+\"*x^2 + \"+str(b)+\"*x + \"+str(c))\n",
    "    print(\"Loss is\", current_loss)\n",
    "    return current_loss"
   ]
  },
  {
   "cell_type": "code",
   "execution_count": 29,
   "metadata": {
    "collapsed": false
   },
   "outputs": [
    {
     "name": "stdout",
     "output_type": "stream",
     "text": [
      "Model is 2*x^2 + 30*x + 50\n",
      "Loss is 620289.60262\n"
     ]
    },
    {
     "data": {
      "text/plain": [
       "620289.60261960281"
      ]
     },
     "execution_count": 29,
     "metadata": {},
     "output_type": "execute_result"
    },
    {
     "data": {
      "image/png": "[encoded data removed]",
      "text/plain": [
       "<matplotlib.figure.Figure at 0x113ecdac8>"
      ]
     },
     "metadata": {},
     "output_type": "display_data"
    }
   ],
   "source": [
    "evaluate_model()"
   ]
  },
  {
   "cell_type": "markdown",
   "metadata": {},
   "source": [
    "## Creating a Gradient Descent Function"
   ]
  },
  {
   "cell_type": "markdown",
   "metadata": {},
   "source": [
    "How many tunable parameters are in the model y = a\\*x^2 + b\\*x + c?"
   ]
  },
  {
   "cell_type": "markdown",
   "metadata": {},
   "source": [
    "What is the gradient of the loss with respect to each of these parameters?"
   ]
  },
  {
   "cell_type": "markdown",
   "metadata": {},
   "source": [
    "Fill out the gradient descent function below."
   ]
  },
  {
   "cell_type": "code",
   "execution_count": 54,
   "metadata": {
    "collapsed": false
   },
   "outputs": [],
   "source": [
    "learning_rate = 0.0000001\n",
    "def gradient_descent():\n",
    "    global a, b, c\n",
    "    # fill out here"
   ]
  },
  {
   "cell_type": "markdown",
   "metadata": {},
   "source": [
    "Solution:"
   ]
  },
  {
   "cell_type": "code",
   "execution_count": 55,
   "metadata": {
    "collapsed": true
   },
   "outputs": [],
   "source": [
    "learning_rate = 0.0000001\n",
    "def gradient_descent(y_guess):\n",
    "    global a, b, c\n",
    "    grad_a = 2*sum([(i-j)*x**2 for i, j, x in zip(y_guess, y, x)])/len(y)\n",
    "    grad_b = 2*sum([(i-j)*x for i, j, x in zip(y_guess, y, x)])/len(y)\n",
    "    grad_c = 2*sum([(i-j) for i, j in zip(y_guess, y)])/len(y)\n",
    "    a -= grad_a * learning_rate\n",
    "    b -= grad_b * learning_rate\n",
    "    c -= grad_c * learning_rate"
   ]
  },
  {
   "cell_type": "markdown",
   "metadata": {},
   "source": [
    "## Train Via Gradient Descent"
   ]
  },
  {
   "cell_type": "code",
   "execution_count": 56,
   "metadata": {
    "collapsed": false
   },
   "outputs": [
    {
     "name": "stdout",
     "output_type": "stream",
     "text": [
      "620289.60262\n",
      "375997.048078\n",
      "240267.714438\n",
      "164856.178872\n",
      "122957.252223\n",
      "99677.9534838\n",
      "86743.7324572\n",
      "79557.2435246\n",
      "75564.1983885\n",
      "73345.4327643\n",
      "72112.4580273\n",
      "71427.1893706\n",
      "71046.2265828\n",
      "70834.3363441\n",
      "70716.3829313\n",
      "70650.6208866\n",
      "70613.8564058\n",
      "70593.2029955\n",
      "70581.5009117\n",
      "70574.7721956\n"
     ]
    }
   ],
   "source": [
    "loss_history = []\n",
    "for i in range(20):\n",
    "    y_guess = model(x)\n",
    "    current_loss = loss(y_guess, y)\n",
    "    print(current_loss)\n",
    "    loss_history.append(current_loss)\n",
    "    gradient_descent(y_guess)"
   ]
  },
  {
   "cell_type": "code",
   "execution_count": 57,
   "metadata": {
    "collapsed": false
   },
   "outputs": [
    {
     "data": {
      "text/plain": [
       "<matplotlib.text.Text at 0x114ac6dd8>"
      ]
     },
     "execution_count": 57,
     "metadata": {},
     "output_type": "execute_result"
    },
    {
     "data": {
      "image/png": "[encoded data removed]",
      "text/plain": [
       "<matplotlib.figure.Figure at 0x114abfcc0>"
      ]
     },
     "metadata": {},
     "output_type": "display_data"
    }
   ],
   "source": [
    "plt.plot(loss_history)\n",
    "plt.title(\"Loss History\")\n",
    "plt.xlabel(\"Number of Training Steps\")\n",
    "plt.ylabel(\"Loss\")"
   ]
  },
  {
   "cell_type": "code",
   "execution_count": 58,
   "metadata": {
    "collapsed": false
   },
   "outputs": [
    {
     "name": "stdout",
     "output_type": "stream",
     "text": [
      "Model is 1.3448168215*x^2 + 29.9881864886*x + 49.9999987047\n",
      "Loss is 70570.8066908\n"
     ]
    },
    {
     "data": {
      "text/plain": [
       "70570.806690837504"
      ]
     },
     "execution_count": 58,
     "metadata": {},
     "output_type": "execute_result"
    },
    {
     "data": {
      "image/png": "[encoded data removed]",
      "text/plain": [
       "<matplotlib.figure.Figure at 0x114d93eb8>"
      ]
     },
     "metadata": {},
     "output_type": "display_data"
    }
   ],
   "source": [
    "evaluate_model()"
   ]
  },
  {
   "cell_type": "markdown",
   "metadata": {},
   "source": [
    "## Questions"
   ]
  },
  {
   "cell_type": "markdown",
   "metadata": {},
   "source": [
    "What happens if you increase the learning rate? What happens if you decrease it?"
   ]
  },
  {
   "cell_type": "markdown",
   "metadata": {},
   "source": [
    "Based on what you see here, what might be a way of determining a good learning rate?"
   ]
  },
  {
   "cell_type": "markdown",
   "metadata": {},
   "source": [
    "What are some problems you can see with this approach?"
   ]
  }
 ],
 "metadata": {
  "kernelspec": {
   "display_name": "Python 3",
   "language": "python",
   "name": "python3"
  },
  "language_info": {
   "codemirror_mode": {
    "name": "ipython",
    "version": 3
   },
   "file_extension": ".py",
   "mimetype": "text/x-python",
   "name": "python",
   "nbconvert_exporter": "python",
   "pygments_lexer": "ipython3",
   "version": "3.5.1"
  },
  "widgets": {
   "state": {},
   "version": "1.1.0"
  }
 },
 "nbformat": 4,
 "nbformat_minor": 0
}
