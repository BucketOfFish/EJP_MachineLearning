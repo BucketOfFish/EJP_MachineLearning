{
 "cells": [
  {
   "cell_type": "markdown",
   "metadata": {},
   "source": [
    "# Generating Names With an RNN"
   ]
  },
  {
   "cell_type": "markdown",
   "metadata": {},
   "source": [
    "Adapted from https://pytorch.org/tutorials/intermediate/char_rnn_classification_tutorial.html. We are going to train on a list of names from 18 different languages. First, we will use an RNN to classify which language a name comes from. Then we will use the same RNN to generate new names."
   ]
  },
  {
   "cell_type": "markdown",
   "metadata": {},
   "source": [
    "## Classifying Languages"
   ]
  },
  {
   "cell_type": "markdown",
   "metadata": {},
   "source": [
    "Since we have a lot of foreign letters in this data, we convert them to the 26-letter English alphabet for convenience. This code is taken from http://stackoverflow.com/a/518232/2809427."
   ]
  },
  {
   "cell_type": "code",
   "execution_count": 6,
   "metadata": {
    "collapsed": false
   },
   "outputs": [
    {
     "name": "stdout",
     "output_type": "stream",
     "text": [
      "After string conversion, Ślusàrski becomes Slusarski\n"
     ]
    }
   ],
   "source": [
    "import string, unicodedata\n",
    "\n",
    "all_letters = string.ascii_letters + \" .,;'\"\n",
    "def unicodeToAscii(s):\n",
    "    return ''.join(\n",
    "        c for c in unicodedata.normalize('NFD', s)\n",
    "        if unicodedata.category(c) != 'Mn'\n",
    "        and c in all_letters\n",
    "    )\n",
    "print('After string conversion, Ślusàrski becomes', unicodeToAscii('Ślusàrski'))"
   ]
  },
  {
   "cell_type": "markdown",
   "metadata": {},
   "source": [
    "Now we read all the names from data files and group them by language."
   ]
  },
  {
   "cell_type": "code",
   "execution_count": 7,
   "metadata": {
    "collapsed": false
   },
   "outputs": [],
   "source": [
    "import glob\n",
    "\n",
    "all_languages = []\n",
    "names = {}\n",
    "\n",
    "for filename in glob.glob('Files/*.txt'):\n",
    "    language = filename.split('/')[-1].split('.')[0]\n",
    "    all_languages.append(language)\n",
    "    lines = open(filename, encoding='utf-8').read().strip().split('\\n')\n",
    "    names[language] = [unicodeToAscii(line) for line in lines]"
   ]
  },
  {
   "cell_type": "code",
   "execution_count": 8,
   "metadata": {
    "collapsed": false
   },
   "outputs": [
    {
     "name": "stdout",
     "output_type": "stream",
     "text": [
      "['Vietnamese', 'Italian', 'Dutch', 'Arabic', 'Scottish', 'Polish', 'Portuguese', 'English', 'French', 'Chinese', 'Japanese', 'Irish', 'Spanish', 'Greek', 'German', 'Czech', 'Russian', 'Korean']\n",
      "Vietnamese ['Nguyen', 'Tron', 'Le', 'Pham', 'Huynh']\n",
      "Italian ['Abandonato', 'Abatangelo', 'Abatantuono', 'Abate', 'Abategiovanni']\n",
      "Dutch ['Aalsburg', 'Aalst', 'Aarle', 'Achteren', 'Achthoven']\n",
      "Arabic ['Khoury', 'Nahas', 'Daher', 'Gerges', 'Nazari']\n",
      "Scottish ['Smith', 'Brown', 'Wilson', 'Campbell', 'Stewart']\n",
      "Polish ['Adamczak', 'Adamczyk', 'Andrysiak', 'Auttenberg', 'Bartosz']\n",
      "Portuguese ['Abreu', 'Albuquerque', 'Almeida', 'Alves', 'Araujo']\n",
      "English ['Abbas', 'Abbey', 'Abbott', 'Abdi', 'Abel']\n",
      "French ['Abel', 'Abraham', 'Adam', 'Albert', 'Allard']\n",
      "Chinese ['Ang', 'AuYong', 'Bai', 'Ban', 'Bao']\n",
      "Japanese ['Abe', 'Abukara', 'Adachi', 'Aida', 'Aihara']\n",
      "Irish ['Adam', 'Ahearn', 'Aodh', 'Aodha', 'Aonghuis']\n",
      "Spanish ['Abana', 'Abano', 'Abarca', 'Abaroa', 'Abascal']\n",
      "Greek ['Adamidis', 'Adamou', 'Agelakos', 'Akrivopoulos', 'Alexandropoulos']\n",
      "German ['Abbing', 'Abel', 'Abeln', 'Abt', 'Achilles']\n",
      "Czech ['Abl', 'Adsit', 'Ajdrna', 'Alt', 'Antonowitsch']\n",
      "Russian ['Ababko', 'Abaev', 'Abagyan', 'Abaidulin', 'Abaidullin']\n",
      "Korean ['Ahn', 'Baik', 'Bang', 'Byon', 'Cha']\n"
     ]
    }
   ],
   "source": [
    "print(list(names.keys()))\n",
    "for language in names.keys():\n",
    "    print(language, names[language][:5])"
   ]
  },
  {
   "cell_type": "markdown",
   "metadata": {},
   "source": [
    "To feed the names into an RNN, we turn each letter in the name into a one-hot vector, and then convert the entire name into a 2D vector. Since we're working with PyTorch, we'll store the data in the Tensor format."
   ]
  },
  {
   "cell_type": "code",
   "execution_count": 9,
   "metadata": {
    "collapsed": false
   },
   "outputs": [
    {
     "name": "stdout",
     "output_type": "stream",
     "text": [
      "tensor([[[ 0.,  0.,  0.,  0.,  0.,  0.,  0.,  0.,  0.,  0.,  0.,\n",
      "           0.,  0.,  0.,  0.,  0.,  0.,  0.,  0.,  0.,  0.,  0.,\n",
      "           0.,  0.,  0.,  0.,  0.,  0.,  0.,  0.,  0.,  0.,  0.,\n",
      "           0.,  0.,  1.,  0.,  0.,  0.,  0.,  0.,  0.,  0.,  0.,\n",
      "           0.,  0.,  0.,  0.,  0.,  0.,  0.,  0.,  0.,  0.,  0.,\n",
      "           0.,  0.]],\n",
      "\n",
      "        [[ 0.,  0.,  0.,  0.,  0.,  0.,  0.,  0.,  0.,  0.,  0.,\n",
      "           0.,  0.,  0.,  1.,  0.,  0.,  0.,  0.,  0.,  0.,  0.,\n",
      "           0.,  0.,  0.,  0.,  0.,  0.,  0.,  0.,  0.,  0.,  0.,\n",
      "           0.,  0.,  0.,  0.,  0.,  0.,  0.,  0.,  0.,  0.,  0.,\n",
      "           0.,  0.,  0.,  0.,  0.,  0.,  0.,  0.,  0.,  0.,  0.,\n",
      "           0.,  0.]],\n",
      "\n",
      "        [[ 0.,  0.,  0.,  0.,  0.,  0.,  0.,  0.,  0.,  0.,  0.,\n",
      "           0.,  0.,  1.,  0.,  0.,  0.,  0.,  0.,  0.,  0.,  0.,\n",
      "           0.,  0.,  0.,  0.,  0.,  0.,  0.,  0.,  0.,  0.,  0.,\n",
      "           0.,  0.,  0.,  0.,  0.,  0.,  0.,  0.,  0.,  0.,  0.,\n",
      "           0.,  0.,  0.,  0.,  0.,  0.,  0.,  0.,  0.,  0.,  0.,\n",
      "           0.,  0.]],\n",
      "\n",
      "        [[ 0.,  0.,  0.,  0.,  1.,  0.,  0.,  0.,  0.,  0.,  0.,\n",
      "           0.,  0.,  0.,  0.,  0.,  0.,  0.,  0.,  0.,  0.,  0.,\n",
      "           0.,  0.,  0.,  0.,  0.,  0.,  0.,  0.,  0.,  0.,  0.,\n",
      "           0.,  0.,  0.,  0.,  0.,  0.,  0.,  0.,  0.,  0.,  0.,\n",
      "           0.,  0.,  0.,  0.,  0.,  0.,  0.,  0.,  0.,  0.,  0.,\n",
      "           0.,  0.]],\n",
      "\n",
      "        [[ 0.,  0.,  0.,  0.,  0.,  0.,  0.,  0.,  0.,  0.,  0.,\n",
      "           0.,  0.,  0.,  0.,  0.,  0.,  0.,  1.,  0.,  0.,  0.,\n",
      "           0.,  0.,  0.,  0.,  0.,  0.,  0.,  0.,  0.,  0.,  0.,\n",
      "           0.,  0.,  0.,  0.,  0.,  0.,  0.,  0.,  0.,  0.,  0.,\n",
      "           0.,  0.,  0.,  0.,  0.,  0.,  0.,  0.,  0.,  0.,  0.,\n",
      "           0.,  0.]]])\n"
     ]
    }
   ],
   "source": [
    "import torch\n",
    "\n",
    "def nameToTensor(name):\n",
    "    tensor = torch.zeros(len(name), 1, len(all_letters))\n",
    "    for i, letter in enumerate(name):\n",
    "        tensor[i][0][all_letters.find(letter)] = 1\n",
    "    return tensor\n",
    "\n",
    "print(nameToTensor('Jones'))"
   ]
  },
  {
   "cell_type": "markdown",
   "metadata": {},
   "source": [
    "Now we create the model."
   ]
  },
  {
   "cell_type": "code",
   "execution_count": 10,
   "metadata": {
    "collapsed": false
   },
   "outputs": [],
   "source": [
    "import torch.nn as nn\n",
    "\n",
    "class RNN(nn.Module):\n",
    "    def __init__(self, input_size, hidden_size, output_size):\n",
    "        super().__init__()\n",
    "        self.i2h = nn.Linear(input_size + hidden_size, hidden_size)\n",
    "        self.i2o = nn.Linear(input_size + hidden_size, output_size)\n",
    "        self.softmax = nn.LogSoftmax(dim=1)\n",
    "    def forward(self, input, hidden):\n",
    "        combined = torch.cat((input, hidden), 1)\n",
    "        hidden = self.i2h(combined)\n",
    "        output = self.i2o(combined)\n",
    "        output = self.softmax(output)\n",
    "        return output, hidden\n",
    "\n",
    "hidden_size = 128\n",
    "rnn = RNN(len(all_letters), hidden_size, len(all_languages))"
   ]
  },
  {
   "cell_type": "markdown",
   "metadata": {},
   "source": [
    "As a test, we pass in the first letter of the name \"Albert\"."
   ]
  },
  {
   "cell_type": "code",
   "execution_count": 11,
   "metadata": {
    "collapsed": false
   },
   "outputs": [],
   "source": [
    "input = nameToTensor('Albert')\n",
    "hidden = torch.zeros(1, 128)\n",
    "output, next_hidden = rnn(input[0], hidden)"
   ]
  },
  {
   "cell_type": "code",
   "execution_count": 12,
   "metadata": {
    "collapsed": false
   },
   "outputs": [
    {
     "data": {
      "text/plain": [
       "tensor([[-2.8325, -2.8060, -2.9658, -2.9608, -2.9377, -2.9093, -2.8434,\n",
       "         -2.9225, -2.8478, -2.9315, -2.9717, -2.8517, -2.8966, -2.8649,\n",
       "         -2.8273, -2.8816, -2.8661, -2.9323]])"
      ]
     },
     "execution_count": 12,
     "metadata": {},
     "output_type": "execute_result"
    }
   ],
   "source": [
    "output"
   ]
  },
  {
   "cell_type": "markdown",
   "metadata": {},
   "source": [
    "The output is in the form of likelihoods for each language, so let's see what the top language is. Right now the net is not trained, so the result doesn't really mean anything."
   ]
  },
  {
   "cell_type": "code",
   "execution_count": 14,
   "metadata": {
    "collapsed": false
   },
   "outputs": [
    {
     "name": "stdout",
     "output_type": "stream",
     "text": [
      "('German', 1)\n"
     ]
    }
   ],
   "source": [
    "def topLanguage(output):\n",
    "    top_n, top_i = output.topk(1)\n",
    "    top_i = top_i[0].item()\n",
    "    return all_languages[top_i], top_i\n",
    "\n",
    "print(topLanguage(output))"
   ]
  },
  {
   "cell_type": "markdown",
   "metadata": {},
   "source": [
    "Now let's train. We'll use user input as test data, so we can use the entire dataset as training data."
   ]
  },
  {
   "cell_type": "code",
   "execution_count": 15,
   "metadata": {
    "collapsed": false
   },
   "outputs": [],
   "source": [
    "import torch.utils.data\n",
    "import numpy as np\n",
    "from sklearn.utils import shuffle\n",
    "\n",
    "X_train = []\n",
    "y_train = []\n",
    "for language in names.keys():\n",
    "    X_train += names[language]\n",
    "    y_train += [all_languages.index(language)]*len(names[language])\n",
    "X_train = [nameToTensor(name) for name in X_train]\n",
    "X_train, y_train = shuffle(X_train, y_train)\n",
    "y_train = torch.from_numpy(np.array(y_train)).type(torch.LongTensor)"
   ]
  },
  {
   "cell_type": "code",
   "execution_count": 134,
   "metadata": {
    "collapsed": false
   },
   "outputs": [],
   "source": [
    "learning_rate = 0.005\n",
    "n_epochs = 10\n",
    "plot_every = 1000\n",
    "loss_function = nn.NLLLoss()\n",
    "\n",
    "def train(language, name):\n",
    "    hidden = torch.zeros(1, hidden_size)\n",
    "    rnn.zero_grad()\n",
    "    for i in range(name.size()[0]):\n",
    "        output, hidden = rnn(name[i], hidden)\n",
    "    loss = loss_function(output, language.view(1))\n",
    "    loss.backward()\n",
    "    # Add parameters' gradients to their values, multiplied by learning rate\n",
    "    for p in rnn.parameters():\n",
    "        p.data.add_(-learning_rate, p.grad.data)\n",
    "    return output, loss.item()\n",
    "\n",
    "current_loss = 0\n",
    "all_losses = []\n",
    "for i in range(n_epochs):\n",
    "    for j, (name, language) in enumerate(zip(X_train, y_train)):\n",
    "        output, loss = train(language, name)\n",
    "        current_loss += loss\n",
    "        # Add current loss avg to list of losses\n",
    "        if (j+1) % plot_every == 0:\n",
    "            all_losses.append(current_loss / plot_every)\n",
    "            current_loss = 0"
   ]
  },
  {
   "cell_type": "code",
   "execution_count": 135,
   "metadata": {
    "collapsed": false
   },
   "outputs": [
    {
     "data": {
      "text/plain": [
       "[<matplotlib.lines.Line2D at 0x146fcb470>]"
      ]
     },
     "execution_count": 135,
     "metadata": {},
     "output_type": "execute_result"
    },
    {
     "data": {
      "image/png": "[encoded data removed]",
      "text/plain": [
       "<matplotlib.figure.Figure at 0x149820198>"
      ]
     },
     "metadata": {},
     "output_type": "display_data"
    }
   ],
   "source": [
    "import matplotlib.pyplot as plt\n",
    "%matplotlib inline\n",
    "import matplotlib.ticker as ticker\n",
    "\n",
    "plt.figure()\n",
    "plt.plot(all_losses)"
   ]
  },
  {
   "cell_type": "markdown",
   "metadata": {},
   "source": [
    "We will now create a plot called a confusion matrix, showing how often the model thinks names of one language come from a different language."
   ]
  },
  {
   "cell_type": "code",
   "execution_count": 136,
   "metadata": {
    "collapsed": false
   },
   "outputs": [
    {
     "data": {
      "image/png": "[encoded data removed]",
      "text/plain": [
       "<matplotlib.figure.Figure at 0x146fb1128>"
      ]
     },
     "metadata": {},
     "output_type": "display_data"
    }
   ],
   "source": [
    "confusion = torch.zeros(len(all_languages), len(all_languages))\n",
    "\n",
    "def evaluate(name):\n",
    "    hidden = torch.zeros(1, hidden_size)\n",
    "    for i in range(name.size()[0]):\n",
    "        output, hidden = rnn(name[i], hidden)\n",
    "    return output\n",
    "\n",
    "for name, language in zip(X_train, y_train):\n",
    "    output = evaluate(name)\n",
    "    _, guess_i = topLanguage(output)\n",
    "    confusion[guess_i][language.item()] += 1\n",
    "\n",
    "# Normalize by dividing every row by its sum\n",
    "for i in range(len(all_languages)):\n",
    "    confusion[i] = confusion[i] / confusion[i].sum()\n",
    "\n",
    "fig = plt.figure()\n",
    "ax = fig.add_subplot(111)\n",
    "cax = ax.matshow(confusion.numpy())\n",
    "fig.colorbar(cax)\n",
    "ax.set_xticklabels([''] + all_languages, rotation=90)\n",
    "ax.set_yticklabels([''] + all_languages)\n",
    "ax.xaxis.set_major_locator(ticker.MultipleLocator(1))\n",
    "ax.yaxis.set_major_locator(ticker.MultipleLocator(1))\n",
    "plt.show()"
   ]
  },
  {
   "cell_type": "markdown",
   "metadata": {},
   "source": [
    "Now we allow the user to test the model with new names."
   ]
  },
  {
   "cell_type": "code",
   "execution_count": 137,
   "metadata": {
    "collapsed": false
   },
   "outputs": [
    {
     "name": "stdout",
     "output_type": "stream",
     "text": [
      "\n",
      "> Dovesky\n",
      "(-0.04) Russian\n",
      "(-4.01) Czech\n",
      "(-4.26) English\n",
      "\n",
      "> Jackson\n",
      "(-0.57) English\n",
      "(-0.96) Russian\n",
      "(-4.49) Scottish\n",
      "\n",
      "> Satoshi\n",
      "(-0.51) Japanese\n",
      "(-1.53) Arabic\n",
      "(-3.07) Italian\n"
     ]
    }
   ],
   "source": [
    "def predict(name, n_predictions=3):\n",
    "    print('\\n> %s' % name)\n",
    "    with torch.no_grad():\n",
    "        output = evaluate(nameToTensor(name))\n",
    "        # Get top N categories\n",
    "        topv, topi = output.topk(n_predictions, 1, True)\n",
    "        predictions = []\n",
    "        for i in range(n_predictions):\n",
    "            value = topv[0][i].item()\n",
    "            language_i = topi[0][i].item()\n",
    "            print('(%.2f) %s' % (value, all_languages[language_i]))\n",
    "            predictions.append([value, all_languages[language_i]])\n",
    "\n",
    "predict('Dovesky')\n",
    "predict('Jackson')\n",
    "predict('Satoshi')"
   ]
  },
  {
   "cell_type": "markdown",
   "metadata": {},
   "source": [
    "## Generating Names"
   ]
  },
  {
   "cell_type": "markdown",
   "metadata": {},
   "source": [
    "We use a slightly more complicated net, where the language is fed in at each step, and the output is the expected next letter. Here we allow one extra letter to represent end of word."
   ]
  },
  {
   "cell_type": "code",
   "execution_count": 66,
   "metadata": {
    "collapsed": false
   },
   "outputs": [],
   "source": [
    "class RNN_gen(nn.Module):\n",
    "    def __init__(self, input_size, hidden_size, output_size):\n",
    "        super().__init__()\n",
    "        self.hidden_size = hidden_size\n",
    "        self.i2h = nn.Linear(len(all_languages) + input_size + hidden_size, hidden_size)\n",
    "        self.i2o = nn.Linear(len(all_languages) + input_size + hidden_size, output_size)\n",
    "        self.o2o = nn.Linear(hidden_size + output_size, output_size)\n",
    "        self.dropout = nn.Dropout(0.1)\n",
    "        self.softmax = nn.LogSoftmax(dim=1)\n",
    "    def forward(self, language, letter, hidden):\n",
    "        input_combined = torch.cat((language, letter, hidden), 1)\n",
    "        hidden = self.i2h(input_combined)\n",
    "        output = self.i2o(input_combined)\n",
    "        output_combined = torch.cat((hidden, output), 1)\n",
    "        output = self.o2o(output_combined)\n",
    "        output = self.dropout(output)\n",
    "        output = self.softmax(output)\n",
    "        return output, hidden\n",
    "\n",
    "hidden_size = 128\n",
    "rnn_gen = RNN_gen(len(all_letters)+1, hidden_size, len(all_letters)+1)"
   ]
  },
  {
   "cell_type": "markdown",
   "metadata": {},
   "source": [
    "Here, since we want to predict the next letter at every step, and not just the language at the very end, we have to update loss on every step."
   ]
  },
  {
   "cell_type": "code",
   "execution_count": 78,
   "metadata": {
    "collapsed": true
   },
   "outputs": [],
   "source": [
    "def nameToTensor(name):\n",
    "    tensor = torch.zeros(len(name), 1, len(all_letters)+1)\n",
    "    for i in range(len(name)):\n",
    "        letter = name[i]\n",
    "        tensor[i][0][all_letters.find(letter)] = 1\n",
    "    return tensor\n",
    "def shiftedName(name):\n",
    "    letter_indexes = [all_letters.find(name[i]) for i in range(1, len(name))]\n",
    "    letter_indexes.append(len(all_letters)) # EOS\n",
    "    return torch.LongTensor(letter_indexes)"
   ]
  },
  {
   "cell_type": "code",
   "execution_count": 79,
   "metadata": {
    "collapsed": true
   },
   "outputs": [],
   "source": [
    "X_train = []\n",
    "y_train = []\n",
    "for language in names.keys():\n",
    "    X_train += names[language]\n",
    "    y_train += [all_languages.index(language)]*len(names[language])\n",
    "X_train, y_train = shuffle(X_train, y_train)\n",
    "y_train = torch.from_numpy(np.array(y_train))"
   ]
  },
  {
   "cell_type": "code",
   "execution_count": 81,
   "metadata": {
    "collapsed": false
   },
   "outputs": [],
   "source": [
    "learning_rate = 0.0005\n",
    "n_epochs = 10\n",
    "plot_every = 1000\n",
    "loss_function = nn.NLLLoss()\n",
    "\n",
    "def train(language, name):\n",
    "    hidden = torch.zeros(1, hidden_size)\n",
    "    rnn_gen.zero_grad()\n",
    "    language_one_hot = torch.zeros(1, len(all_languages))\n",
    "    language_one_hot[0][language.item()] = 1\n",
    "    loss = 0\n",
    "    shifted_name = shiftedName(name)\n",
    "    shifted_name.unsqueeze_(-1)\n",
    "    name = nameToTensor(name)\n",
    "    for i in range(name.size(0)):\n",
    "        output, hidden = rnn_gen(language_one_hot, name[i], hidden)\n",
    "        loss += loss_function(output, shifted_name[i])\n",
    "    loss.backward()\n",
    "    # Add parameters' gradients to their values, multiplied by learning rate\n",
    "    for p in rnn_gen.parameters():\n",
    "        p.data.add_(-learning_rate, p.grad.data)\n",
    "    return output, loss.item()\n",
    "\n",
    "all_losses = []\n",
    "for i in range(n_epochs):\n",
    "    current_loss = 0\n",
    "    for j, (name, language) in enumerate(zip(X_train, y_train)):\n",
    "        output, loss = train(language, name)\n",
    "        current_loss += loss\n",
    "        # Add current loss avg to list of losses\n",
    "        if (j+1) % plot_every == 0:\n",
    "            all_losses.append(current_loss / plot_every)\n",
    "            current_loss = 0"
   ]
  },
  {
   "cell_type": "code",
   "execution_count": 82,
   "metadata": {
    "collapsed": false
   },
   "outputs": [
    {
     "data": {
      "text/plain": [
       "[<matplotlib.lines.Line2D at 0x11a0a0b00>]"
      ]
     },
     "execution_count": 82,
     "metadata": {},
     "output_type": "execute_result"
    },
    {
     "data": {
      "image/png": "[encoded data removed]",
      "text/plain": [
       "<matplotlib.figure.Figure at 0x11a081eb8>"
      ]
     },
     "metadata": {},
     "output_type": "display_data"
    }
   ],
   "source": [
    "plt.plot(all_losses)"
   ]
  },
  {
   "cell_type": "code",
   "execution_count": 83,
   "metadata": {
    "collapsed": false
   },
   "outputs": [
    {
     "name": "stdout",
     "output_type": "stream",
     "text": [
      "Raiiaiiieiyyyyyeeaeee\n",
      "Grueerrrrrerrrrrrrrrl\n",
      "Saaaaaaaaaaaeeaiaaaaa\n",
      "Cha\n"
     ]
    }
   ],
   "source": [
    "max_length = 20\n",
    "\n",
    "def generate(language, start_letter='A'):\n",
    "    with torch.no_grad():  # no need to track history in sampling\n",
    "        language_one_hot = torch.zeros(1, len(all_languages))\n",
    "        language_one_hot[0][all_languages.index(language)] = 1\n",
    "        input_letter = nameToTensor(start_letter)[0]\n",
    "        hidden = torch.zeros(1, hidden_size)\n",
    "        output_name = start_letter\n",
    "        for i in range(max_length):\n",
    "            output, hidden = rnn_gen(language_one_hot, input_letter, hidden)\n",
    "            topv, topi = output.topk(1)\n",
    "            topi = topi[0][0]\n",
    "            if topi == len(all_letters):\n",
    "                break\n",
    "            else:\n",
    "                letter = all_letters[topi]\n",
    "                output_name += letter\n",
    "            input = nameToTensor(letter)[0]\n",
    "        print(output_name)\n",
    "\n",
    "generate('Russian', 'R')\n",
    "generate('German', 'G')\n",
    "generate('Spanish', 'S')\n",
    "generate('Chinese', 'C')"
   ]
  },
  {
   "cell_type": "code",
   "execution_count": null,
   "metadata": {
    "collapsed": true
   },
   "outputs": [],
   "source": []
  }
 ],
 "metadata": {
  "kernelspec": {
   "display_name": "Python 3",
   "language": "python",
   "name": "python3"
  },
  "language_info": {
   "codemirror_mode": {
    "name": "ipython",
    "version": 3
   },
   "file_extension": ".py",
   "mimetype": "text/x-python",
   "name": "python",
   "nbconvert_exporter": "python",
   "pygments_lexer": "ipython3",
   "version": "3.5.1"
  },
  "widgets": {
   "state": {},
   "version": "1.1.0"
  }
 },
 "nbformat": 4,
 "nbformat_minor": 0
}
