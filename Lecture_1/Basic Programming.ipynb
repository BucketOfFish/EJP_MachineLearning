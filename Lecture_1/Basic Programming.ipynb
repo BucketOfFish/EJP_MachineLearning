{
 "cells": [
  {
   "cell_type": "markdown",
   "metadata": {},
   "source": [
    "# Basic Programming"
   ]
  },
  {
   "cell_type": "code",
   "execution_count": 1,
   "metadata": {
    "collapsed": false
   },
   "outputs": [
    {
     "name": "stdout",
     "output_type": "stream",
     "text": [
      "Hello world!\n"
     ]
    }
   ],
   "source": [
    "print(\"Hello world!\")"
   ]
  },
  {
   "cell_type": "markdown",
   "metadata": {},
   "source": [
    "---"
   ]
  },
  {
   "cell_type": "markdown",
   "metadata": {},
   "source": [
    "**Exercise: Display \"I am a computer\".**"
   ]
  },
  {
   "cell_type": "markdown",
   "metadata": {},
   "source": [
    "---"
   ]
  },
  {
   "cell_type": "code",
   "execution_count": 2,
   "metadata": {
    "collapsed": false
   },
   "outputs": [
    {
     "name": "stdout",
     "output_type": "stream",
     "text": [
      "a is 3\n",
      "b is 17\n",
      "c is 99\n",
      "a+b is 20\n",
      "a*c is 297\n"
     ]
    }
   ],
   "source": [
    "a = 3\n",
    "b = 17\n",
    "c = 99\n",
    "print(\"a is\", a)\n",
    "print(\"b is\", b)\n",
    "print(\"c is\", c)\n",
    "print(\"a+b is\", a+b)\n",
    "print(\"a*c is\", a*c)"
   ]
  },
  {
   "cell_type": "markdown",
   "metadata": {},
   "source": [
    "---"
   ]
  },
  {
   "cell_type": "markdown",
   "metadata": {},
   "source": [
    "**Exercise: Let a = 19, b = 0.6, c = 4. Print the values of:**\n",
    "\n",
    "**b\\*(a+c)**  \n",
    "**a^2**  \n",
    "**b/c**  \n",
    "**3\\*a^3+18\\*b^2+b\\*c**"
   ]
  },
  {
   "cell_type": "markdown",
   "metadata": {},
   "source": [
    "---"
   ]
  },
  {
   "cell_type": "code",
   "execution_count": 3,
   "metadata": {
    "collapsed": false
   },
   "outputs": [
    {
     "name": "stdout",
     "output_type": "stream",
     "text": [
      "We have now looped 1 times. The value of a is 7\n",
      "We have now looped 2 times. The value of a is 9\n",
      "We have now looped 3 times. The value of a is 11\n",
      "We have now looped 4 times. The value of a is 13\n",
      "We have now looped 5 times. The value of a is 15\n",
      "We have now looped 6 times. The value of a is 17\n",
      "We have now looped 7 times. The value of a is 19\n",
      "We have now looped 8 times. The value of a is 21\n",
      "We have now looped 9 times. The value of a is 23\n",
      "We have now looped 10 times. The value of a is 25\n"
     ]
    }
   ],
   "source": [
    "a = 5\n",
    "b = 2\n",
    "\n",
    "for i in range(1, 11):\n",
    "    a = a+b\n",
    "    print(\"We have now looped\", i, \"times. The value of a is\", a)"
   ]
  },
  {
   "cell_type": "markdown",
   "metadata": {},
   "source": [
    "---"
   ]
  },
  {
   "cell_type": "markdown",
   "metadata": {},
   "source": [
    "**Exercise: Print the following:**\n",
    "\n",
    "**Counting 1**  \n",
    "**Counting 2**  \n",
    "**Counting 3**  \n",
    "**...**  \n",
    "**Counting 99**"
   ]
  },
  {
   "cell_type": "markdown",
   "metadata": {},
   "source": [
    "---"
   ]
  },
  {
   "cell_type": "markdown",
   "metadata": {},
   "source": [
    "**Exercise: What is 1\\*2\\*3\\*...\\*99?**"
   ]
  },
  {
   "cell_type": "markdown",
   "metadata": {},
   "source": [
    "---"
   ]
  },
  {
   "cell_type": "code",
   "execution_count": 4,
   "metadata": {
    "collapsed": false
   },
   "outputs": [
    {
     "name": "stdout",
     "output_type": "stream",
     "text": [
      "4.242640687119285\n",
      "2.995732273553991\n"
     ]
    }
   ],
   "source": [
    "import math\n",
    "\n",
    "print(math.sqrt(18))\n",
    "print(math.log(20))"
   ]
  },
  {
   "cell_type": "markdown",
   "metadata": {},
   "source": [
    "---"
   ]
  },
  {
   "cell_type": "markdown",
   "metadata": {},
   "source": [
    "**Exercise: What is sqrt(82+log(18)\\*4)+12?**"
   ]
  },
  {
   "cell_type": "markdown",
   "metadata": {},
   "source": [
    "---"
   ]
  },
  {
   "cell_type": "code",
   "execution_count": 5,
   "metadata": {
    "collapsed": false
   },
   "outputs": [
    {
     "name": "stdout",
     "output_type": "stream",
     "text": [
      "4\n",
      "2\n",
      "Jojo\n",
      "Woof\n"
     ]
    }
   ],
   "source": [
    "class Dog:\n",
    "    n_legs = 4\n",
    "    n_ears = 2\n",
    "    def __init__(self, my_name):\n",
    "        self.name = my_name\n",
    "    def bark(self):\n",
    "        print(\"Woof\")\n",
    "\n",
    "Jojo = Dog(\"Jojo\")\n",
    "print(Jojo.n_legs)\n",
    "print(Jojo.n_ears)\n",
    "print(Jojo.name)\n",
    "Jojo.bark()"
   ]
  },
  {
   "cell_type": "markdown",
   "metadata": {},
   "source": [
    "---"
   ]
  },
  {
   "cell_type": "markdown",
   "metadata": {},
   "source": [
    "**Exercise: Add another function to Dog that makes it gain an extra ear and an extra leg.**"
   ]
  },
  {
   "cell_type": "markdown",
   "metadata": {},
   "source": [
    "---"
   ]
  },
  {
   "cell_type": "markdown",
   "metadata": {},
   "source": [
    "**Exercise: Make a Cat class that meows instead of barks.**"
   ]
  },
  {
   "cell_type": "markdown",
   "metadata": {},
   "source": [
    "---"
   ]
  },
  {
   "cell_type": "code",
   "execution_count": 7,
   "metadata": {
    "collapsed": false
   },
   "outputs": [
    {
     "name": "stdout",
     "output_type": "stream",
     "text": [
      "3\n",
      "hi\n",
      "[4, 'hi']\n",
      "12\n"
     ]
    }
   ],
   "source": [
    "my_list = [3, 4, \"hi\", 9, 8]\n",
    "print(my_list[0])\n",
    "print(my_list[2])\n",
    "print(my_list[1:3])\n",
    "print(my_list[1] + my_list[4])"
   ]
  }
 ],
 "metadata": {
  "kernelspec": {
   "display_name": "Python 3",
   "language": "python",
   "name": "python3"
  },
  "language_info": {
   "codemirror_mode": {
    "name": "ipython",
    "version": 3
   },
   "file_extension": ".py",
   "mimetype": "text/x-python",
   "name": "python",
   "nbconvert_exporter": "python",
   "pygments_lexer": "ipython3",
   "version": "3.5.1"
  },
  "widgets": {
   "state": {},
   "version": "1.1.0"
  }
 },
 "nbformat": 4,
 "nbformat_minor": 0
}
